{
  "nbformat": 4,
  "nbformat_minor": 0,
  "metadata": {
    "colab": {
      "provenance": []
    },
    "kernelspec": {
      "name": "python3",
      "display_name": "Python 3"
    },
    "language_info": {
      "name": "python"
    }
  },
  "cells": [
    {
      "cell_type": "markdown",
      "source": [
        "Imagine you have a bakery that produces two types of cakes: chocolate cakes and vanilla cakes. To make each chocolate cake, you need 2 cups of flour, 1 cup of sugar, and 3 eggs. To make each vanilla cake, you need 1 cup of flour, 2 cups of sugar, and 2 eggs. You have 30 cups of flour, 40 cups of sugar, and 50 eggs available.\n",
        "\n",
        "Your goal is to maximize profit. Each chocolate cake sells for 10, and each vanilla cake sells for 8."
      ],
      "metadata": {
        "id": "pWiPHfcJGLHt"
      }
    },
    {
      "cell_type": "markdown",
      "source": [
        "Linear Programming Optimization (Maximize, minimize a number).\n",
        "- Maximize the profit.\n",
        "- Minimize risk.\n",
        "\n",
        "\n",
        "\n",
        "1- Decision Varibales. (1- Chocolate Cake. 2- Vanilla Cake) <=== Decision varibles\n",
        "2- Constraints.\n",
        "-> Choclate Cake(x0) : 2 cups flour , 1 cup sugar, 3 eggs\n",
        "-> Vanilla Cake(x1) : 1 cup of flour, 2 cups of sugar, 2 eggs.\n",
        "Constraints:\n",
        "- flour: 2 x0 + 1 x1 <= 30 (chocolate cake + vanilla cake)\n",
        "- sugar: 1 x0 + 2 x1 <= 40\n",
        "- egg: 3 x0 + 2 x1 <= 50\n",
        "\n",
        "2- Objective Function.\n",
        "choclate cake -> 10\n",
        "Vanilla cake -> 8\n",
        "To maximize the profit.\n",
        "Objective function 10*x0 + 8*x1"
      ],
      "metadata": {
        "id": "CIzXT7ABUXaP"
      }
    },
    {
      "cell_type": "markdown",
      "source": [
        "### Define the coefficients of the objective function\n",
        "\n",
        "> By default it work to minimize so we put minus with the coeffeinicts to covert them to positive (Maximize)\n",
        "\n",
        "> Coefficients for maximizing profit: -10 for chocolate cakes, -8 for vanilla cakes\n"
      ],
      "metadata": {
        "id": "9LMHsQ5_5jqA"
      }
    },
    {
      "cell_type": "code",
      "source": [
        "from scipy.optimize import linprog\n",
        "c = [-10, -8]  # -10 chocolate, -8 vanilla"
      ],
      "metadata": {
        "id": "fkgp2xdR5jbt"
      },
      "execution_count": null,
      "outputs": []
    },
    {
      "cell_type": "markdown",
      "source": [
        "### Define the coefficients of the constraints (left-hand side matrix) 2D list\n",
        "\n",
        ">  First row represent Flour constraint coefficients\n",
        "\n",
        ">   Second row represent Sugar constraint coefficients\n",
        "\n",
        ">    Third row represent Eggs constraint coefficients\n"
      ],
      "metadata": {
        "id": "UfukKRjT5wYi"
      }
    },
    {
      "cell_type": "code",
      "execution_count": null,
      "metadata": {
        "id": "ywNUSqIrZlmz"
      },
      "outputs": [],
      "source": [
        "# ingredients at needed\n",
        "a = [[2, 1], # flour\n",
        "     [1, 2], # sugar\n",
        "     [3, 2]] # eggs"
      ]
    },
    {
      "cell_type": "markdown",
      "source": [
        "### Define the right-hand side of the constraints 1D list\n",
        "\n",
        "> Represent the available amounts of flour, sugar, and eggs"
      ],
      "metadata": {
        "id": "RWdjUNU_6O74"
      }
    },
    {
      "cell_type": "code",
      "source": [
        "# ingredients available\n",
        "b = [30, 40, 50] # four, sugar, eggs"
      ],
      "metadata": {
        "id": "jamsk1G36h0W"
      },
      "execution_count": null,
      "outputs": []
    },
    {
      "cell_type": "markdown",
      "source": [
        "### Define the bounds for each variable (non-negative) Decision variables (for chocolate and vanilla cakes)\n"
      ],
      "metadata": {
        "id": "JayJvQOC6kDj"
      }
    },
    {
      "cell_type": "code",
      "source": [
        "x0_bounds = (0, None)\n",
        "x1_bounds = (0, None)"
      ],
      "metadata": {
        "id": "4XNtnXEC6FJy"
      },
      "execution_count": null,
      "outputs": []
    },
    {
      "cell_type": "markdown",
      "source": [
        "### Solve the linear programming problem\n",
        "\n",
        ">Hint: use linprog's method set to either (highs --> to minimze , simplex --> to maxximize)"
      ],
      "metadata": {
        "id": "pvWGVZHj6x4s"
      }
    },
    {
      "cell_type": "code",
      "source": [
        "res = linprog(c, A_ub = a, b_ub = b, bounds = [x0_bounds, x1_bounds], method = 'highs')"
      ],
      "metadata": {
        "id": "hLrx_O-p6FGT"
      },
      "execution_count": null,
      "outputs": []
    },
    {
      "cell_type": "markdown",
      "source": [
        "### Print the result\n",
        "\n",
        "> x[0] --> number of chocolate cake\n",
        "\n",
        "> x[1] --> number of vanilla cake ,\n",
        "\n",
        "> result.fun: maximum profit fun is a constant variable in result (maximum value or minimum value)\n"
      ],
      "metadata": {
        "id": "hTEWPTRw68UH"
      }
    },
    {
      "cell_type": "code",
      "source": [
        "# Print the result\n",
        "\n",
        "if res.success:\n",
        "    print(\"Optimal solution found:\")\n",
        "    print(\"Number of chocolate cakes: \", round(res.x[0], 0))\n",
        "    print(\"Number of vanilla cakes: \", round(res.x[1], 0))\n",
        "    print(\"Maximum Profit: $\", round(-res.fun, 2))  # Note: negating back to get actual profit\n",
        "else:\n",
        "    print(\"Optimization failed. Check constraints.\")"
      ],
      "metadata": {
        "colab": {
          "base_uri": "https://localhost:8080/"
        },
        "id": "eBpXnwcFnkZU",
        "outputId": "ed761457-9964-465f-83ab-e9af85fe82c8"
      },
      "execution_count": null,
      "outputs": [
        {
          "output_type": "stream",
          "name": "stdout",
          "text": [
            "Optimal solution found:\n",
            "Number of chocolate cakes:  5.0\n",
            "Number of vanilla cakes:  18.0\n",
            "Maximum Profit: $ 190.0\n"
          ]
        }
      ]
    },
    {
      "cell_type": "code",
      "source": [],
      "metadata": {
        "colab": {
          "base_uri": "https://localhost:8080/"
        },
        "id": "57iVsIkZ6FD3",
        "outputId": "92bf7833-e052-45b8-f0f5-bd781737e0aa"
      },
      "execution_count": null,
      "outputs": [
        {
          "output_type": "stream",
          "name": "stdout",
          "text": [
            "Number of chocolate cakes: 5\n",
            "Number of vanilla cakes: 18\n",
            "Maximum profit: $ 190\n"
          ]
        }
      ]
    },
    {
      "cell_type": "markdown",
      "source": [
        "### Objective function using the coefficients for maximizing profit"
      ],
      "metadata": {
        "id": "wwfNVM9M7OHG"
      }
    },
    {
      "cell_type": "markdown",
      "source": [
        "> Objective function (to maximize profit) is the sum of the product of coefficients and decision variables"
      ],
      "metadata": {
        "id": "HUyW_eAj8aal"
      }
    },
    {
      "cell_type": "code",
      "source": [
        "obj_fn = 10 * res.x[0] + 8 * res.x[1]\n",
        "print('Objective Function: ', round(obj_fn, 2))"
      ],
      "metadata": {
        "colab": {
          "base_uri": "https://localhost:8080/"
        },
        "id": "AVrVryrQolig",
        "outputId": "3b3bb78c-a98e-401e-a62d-95415b59c1ac"
      },
      "execution_count": null,
      "outputs": [
        {
          "output_type": "stream",
          "name": "stdout",
          "text": [
            "Objective Function:  190.0\n"
          ]
        }
      ]
    },
    {
      "cell_type": "code",
      "source": [],
      "metadata": {
        "colab": {
          "base_uri": "https://localhost:8080/"
        },
        "id": "Fmvzb9qvGmyK",
        "outputId": "c5c935db-c114-4d10-c65a-d214ed54482c"
      },
      "execution_count": null,
      "outputs": [
        {
          "output_type": "stream",
          "name": "stdout",
          "text": [
            "Objective function:\n",
            "Maximize: 10 * x0 + 8 * x1\n"
          ]
        }
      ]
    }
  ]
}